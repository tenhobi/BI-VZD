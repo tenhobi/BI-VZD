{
 "cells": [
  {
   "cell_type": "markdown",
   "metadata": {},
   "source": [
    "# Lineární regrese"
   ]
  },
  {
   "cell_type": "markdown",
   "metadata": {},
   "source": [
    "V tomto notebooku se budeme zabývat využitím lineární regrese k predikci"
   ]
  },
  {
   "cell_type": "code",
   "execution_count": 1,
   "metadata": {},
   "outputs": [],
   "source": [
    "import pandas as pd\n",
    "import numpy as np\n",
    "\n",
    "import matplotlib.pyplot as plt\n",
    "import matplotlib\n",
    "%matplotlib inline\n",
    "\n",
    "np.set_printoptions(precision=5, suppress=True)  # suppress scientific float notation (so 0.000 is printed as 0.)"
   ]
  },
  {
   "cell_type": "markdown",
   "metadata": {},
   "source": [
    "## Načtení dat\n",
    "\n",
    "Využijeme data ze serveru Kaggle o cenách domů v oblasti Bostonu v USA [více info zde](https://www.kaggle.com/c/boston-housing).\n",
    "\n",
    "Data jsou již vyčištěná. Proměnná, kterou chceme predikovat je `medv`."
   ]
  },
  {
   "cell_type": "code",
   "execution_count": 2,
   "metadata": {},
   "outputs": [
    {
     "name": "stdout",
     "output_type": "stream",
     "text": [
      "Shape (333, 15)\n"
     ]
    },
    {
     "data": {
      "text/html": [
       "<div>\n",
       "<style scoped>\n",
       "    .dataframe tbody tr th:only-of-type {\n",
       "        vertical-align: middle;\n",
       "    }\n",
       "\n",
       "    .dataframe tbody tr th {\n",
       "        vertical-align: top;\n",
       "    }\n",
       "\n",
       "    .dataframe thead th {\n",
       "        text-align: right;\n",
       "    }\n",
       "</style>\n",
       "<table border=\"1\" class=\"dataframe\">\n",
       "  <thead>\n",
       "    <tr style=\"text-align: right;\">\n",
       "      <th></th>\n",
       "      <th>ID</th>\n",
       "      <th>crim</th>\n",
       "      <th>zn</th>\n",
       "      <th>indus</th>\n",
       "      <th>chas</th>\n",
       "      <th>nox</th>\n",
       "      <th>rm</th>\n",
       "      <th>age</th>\n",
       "      <th>dis</th>\n",
       "      <th>rad</th>\n",
       "      <th>tax</th>\n",
       "      <th>ptratio</th>\n",
       "      <th>black</th>\n",
       "      <th>lstat</th>\n",
       "      <th>medv</th>\n",
       "    </tr>\n",
       "  </thead>\n",
       "  <tbody>\n",
       "    <tr>\n",
       "      <th>0</th>\n",
       "      <td>1</td>\n",
       "      <td>0.00632</td>\n",
       "      <td>18.0</td>\n",
       "      <td>2.31</td>\n",
       "      <td>0</td>\n",
       "      <td>0.538</td>\n",
       "      <td>6.575</td>\n",
       "      <td>65.2</td>\n",
       "      <td>4.0900</td>\n",
       "      <td>1</td>\n",
       "      <td>296</td>\n",
       "      <td>15.3</td>\n",
       "      <td>396.90</td>\n",
       "      <td>4.98</td>\n",
       "      <td>24.0</td>\n",
       "    </tr>\n",
       "    <tr>\n",
       "      <th>1</th>\n",
       "      <td>2</td>\n",
       "      <td>0.02731</td>\n",
       "      <td>0.0</td>\n",
       "      <td>7.07</td>\n",
       "      <td>0</td>\n",
       "      <td>0.469</td>\n",
       "      <td>6.421</td>\n",
       "      <td>78.9</td>\n",
       "      <td>4.9671</td>\n",
       "      <td>2</td>\n",
       "      <td>242</td>\n",
       "      <td>17.8</td>\n",
       "      <td>396.90</td>\n",
       "      <td>9.14</td>\n",
       "      <td>21.6</td>\n",
       "    </tr>\n",
       "    <tr>\n",
       "      <th>2</th>\n",
       "      <td>4</td>\n",
       "      <td>0.03237</td>\n",
       "      <td>0.0</td>\n",
       "      <td>2.18</td>\n",
       "      <td>0</td>\n",
       "      <td>0.458</td>\n",
       "      <td>6.998</td>\n",
       "      <td>45.8</td>\n",
       "      <td>6.0622</td>\n",
       "      <td>3</td>\n",
       "      <td>222</td>\n",
       "      <td>18.7</td>\n",
       "      <td>394.63</td>\n",
       "      <td>2.94</td>\n",
       "      <td>33.4</td>\n",
       "    </tr>\n",
       "    <tr>\n",
       "      <th>3</th>\n",
       "      <td>5</td>\n",
       "      <td>0.06905</td>\n",
       "      <td>0.0</td>\n",
       "      <td>2.18</td>\n",
       "      <td>0</td>\n",
       "      <td>0.458</td>\n",
       "      <td>7.147</td>\n",
       "      <td>54.2</td>\n",
       "      <td>6.0622</td>\n",
       "      <td>3</td>\n",
       "      <td>222</td>\n",
       "      <td>18.7</td>\n",
       "      <td>396.90</td>\n",
       "      <td>5.33</td>\n",
       "      <td>36.2</td>\n",
       "    </tr>\n",
       "    <tr>\n",
       "      <th>4</th>\n",
       "      <td>7</td>\n",
       "      <td>0.08829</td>\n",
       "      <td>12.5</td>\n",
       "      <td>7.87</td>\n",
       "      <td>0</td>\n",
       "      <td>0.524</td>\n",
       "      <td>6.012</td>\n",
       "      <td>66.6</td>\n",
       "      <td>5.5605</td>\n",
       "      <td>5</td>\n",
       "      <td>311</td>\n",
       "      <td>15.2</td>\n",
       "      <td>395.60</td>\n",
       "      <td>12.43</td>\n",
       "      <td>22.9</td>\n",
       "    </tr>\n",
       "  </tbody>\n",
       "</table>\n",
       "</div>"
      ],
      "text/plain": [
       "   ID     crim    zn  indus  chas    nox     rm   age     dis  rad  tax  \\\n",
       "0   1  0.00632  18.0   2.31     0  0.538  6.575  65.2  4.0900    1  296   \n",
       "1   2  0.02731   0.0   7.07     0  0.469  6.421  78.9  4.9671    2  242   \n",
       "2   4  0.03237   0.0   2.18     0  0.458  6.998  45.8  6.0622    3  222   \n",
       "3   5  0.06905   0.0   2.18     0  0.458  7.147  54.2  6.0622    3  222   \n",
       "4   7  0.08829  12.5   7.87     0  0.524  6.012  66.6  5.5605    5  311   \n",
       "\n",
       "   ptratio   black  lstat  medv  \n",
       "0     15.3  396.90   4.98  24.0  \n",
       "1     17.8  396.90   9.14  21.6  \n",
       "2     18.7  394.63   2.94  33.4  \n",
       "3     18.7  396.90   5.33  36.2  \n",
       "4     15.2  395.60  12.43  22.9  "
      ]
     },
     "execution_count": 2,
     "metadata": {},
     "output_type": "execute_result"
    }
   ],
   "source": [
    "df = pd.read_csv('boston.csv')\n",
    "print('Shape', df.shape)\n",
    "df.head()"
   ]
  },
  {
   "cell_type": "markdown",
   "metadata": {},
   "source": [
    "### Příprava trénovací a testovací množiny\n",
    "\n",
    "Využijeme [train_test_split](https://scikit-learn.org/stable/modules/generated/sklearn.model_selection.train_test_split.html) ze `scikit-learn`."
   ]
  },
  {
   "cell_type": "code",
   "execution_count": 4,
   "metadata": {},
   "outputs": [
    {
     "name": "stdout",
     "output_type": "stream",
     "text": [
      "Train X shape (249, 13)\n",
      "Test X shape (84, 13)\n"
     ]
    }
   ],
   "source": [
    "from sklearn.model_selection import train_test_split\n",
    "X, X_test, Y, Y_test = train_test_split(df.drop(columns = ['ID', 'medv']), df['medv'], test_size=0.25, random_state=42)\n",
    "print('Train X shape', X.shape)\n",
    "print('Test X shape', X_test.shape)"
   ]
  },
  {
   "cell_type": "markdown",
   "metadata": {},
   "source": [
    "## Task 1 - proveďte metodu nejmenších čtverců ručně\n",
    "\n",
    "Používejte pouze maticové operace v [numpy.linalg](https://docs.scipy.org/doc/numpy-1.15.1/reference/routines.linalg.html).\n",
    "\n",
    "* Vypočtěte odhad $\\hat{\\boldsymbol w}_{OLS} = (\\mathbf{X}^T \\mathbf X)^{-1} \\mathbf X^T \\boldsymbol Y$ a vypište jednotlivé koeficienty.\n",
    "* Spočtěte hodnotu $\\text{RSS}(\\hat{\\boldsymbol w}_{OLS}) = \\lVert \\boldsymbol Y - \\mathbf X \\boldsymbol w \\rVert^2$.\n",
    "* Pro testovací data proveďte predikce $\\hat Y_i$ a porovnejte je se skutečnými hodnotami $Y_i$.\n",
    "Jako míru porovnání použijte RMSE - root mean squared error definovanou pomocí vztahu $\\text{RMSE} = \\sqrt{\\sum_{i}(Y_i - \\hat Y_i)^2}$. Můžete použít implementaci [sklearn.metrics.mean_squared_error](https://scikit-learn.org/stable/modules/generated/sklearn.metrics.mean_squared_error.html#sklearn.metrics.mean_squared_error)\n",
    "* Nakreslete scatter plot hodnot $Y_i$ a $\\hat Y_i$ pro testovací množinu.\n"
   ]
  },
  {
   "cell_type": "code",
   "execution_count": 10,
   "metadata": {},
   "outputs": [
    {
     "name": "stdout",
     "output_type": "stream",
     "text": [
      "w_hat =  [[ 38.20659  -0.07709   0.05966  -0.01475   4.1967  -16.86474   3.55901\n",
      "   -0.01256  -1.81433   0.40758  -0.01564  -0.77078   0.00752  -0.58124]]\n",
      "RSS 5649.69059873862\n",
      "The same RSS [[5649.6906]]\n",
      "RMSE: 4.799532488947313\n"
     ]
    },
    {
     "data": {
      "image/png": "[encoded data removed]",
      "text/plain": [
       "<Figure size 432x288 with 1 Axes>"
      ]
     },
     "metadata": {},
     "output_type": "display_data"
    }
   ],
   "source": [
    "# Your code here\n",
    "\n",
    "# musíme přidat sloupec jedniček !!!\n",
    "XX = np.matrix(np.concatenate([np.ones((X.shape[0],1)),np.array(X)], axis = 1))\n",
    "YY = np.matrix(Y).T\n",
    "w_hat = (XX.T*XX).I * XX.T*YY\n",
    "print('w_hat = ', w_hat.T)\n",
    "\n",
    "RSS = np.linalg.norm(YY - XX*w_hat)**2\n",
    "print('RSS', RSS)\n",
    "print('The same RSS', (YY - XX*w_hat).T*(YY - XX*w_hat))\n",
    "\n",
    "XXt = np.matrix(np.concatenate([np.ones((X_test.shape[0],1)),np.array(X_test)], axis = 1))\n",
    "Yt_hat = XXt*w_hat\n",
    "Yth = np.array(Yt_hat).flatten()\n",
    "\n",
    "plt.scatter(Y_test, Yth)\n",
    "plt.plot([0,50], [0,50])\n",
    "plt.show()\n",
    "\n",
    "from sklearn.metrics import mean_squared_error\n",
    "print('RMSE:', np.sqrt(mean_squared_error(Yth, np.array(Y_test))))"
   ]
  },
  {
   "cell_type": "markdown",
   "metadata": {},
   "source": [
    "## Task 2 - zopakujte metodu nejmenších čtverců s využitím scikit-learn\n",
    "\n",
    "* Zopakujte postup z předchozího bodu s využitím třídy [LinearRegression](https://scikit-learn.org/stable/modules/generated/sklearn.linear_model.LinearRegression.html#sklearn.linear_model.LinearRegression) ze `scikit-learn`.\n",
    "* Porovnejte výsledky s předchozím manuálním přístupem."
   ]
  },
  {
   "cell_type": "code",
   "execution_count": 11,
   "metadata": {},
   "outputs": [
    {
     "name": "stdout",
     "output_type": "stream",
     "text": [
      "[ -0.07709   0.05966  -0.01475   4.1967  -16.86474   3.55901  -0.01256\n",
      "  -1.81433   0.40758  -0.01564  -0.77078   0.00752  -0.58124]\n",
      "RMSE: 4.799532488947328\n"
     ]
    },
    {
     "data": {
      "image/png": "[encoded data removed]",
      "text/plain": [
       "<Figure size 432x288 with 1 Axes>"
      ]
     },
     "metadata": {},
     "output_type": "display_data"
    }
   ],
   "source": [
    "# Your code here\n",
    "\n",
    "\n",
    "from sklearn.linear_model import LinearRegression\n",
    "clf = LinearRegression()\n",
    "clf.fit(X,Y)\n",
    "\n",
    "print(clf.coef_)\n",
    "\n",
    "Yth = clf.predict(X_test)\n",
    "plt.scatter(Y_test, Yth)\n",
    "plt.plot([0,50], [0,50])\n",
    "plt.show()\n",
    "\n",
    "print('RMSE:', np.sqrt(mean_squared_error(Yth, np.array(Y_test))))"
   ]
  },
  {
   "cell_type": "markdown",
   "metadata": {},
   "source": [
    "## Task 3 - proveďte metodu nejmenších čtverců pomocí gradientního sestupu\n",
    "\n",
    "* Ručně implementujte gradientní sestup pro hledání $\\boldsymbol w$ minimalizujícího $\\text{RSS}(\\boldsymbol w)$. Gradient je: $\\nabla\\text{RSS}(\\boldsymbol{w}) = -2 \\mathbf{X}^T ( \\boldsymbol Y - \\mathbf X \\boldsymbol{w})$.\n",
    "* Výsledný odhad $\\hat{\\boldsymbol w}$ porovnejte s $\\hat{\\boldsymbol w}_{OLS}$ získaným v předchozím bodě."
   ]
  },
  {
   "cell_type": "code",
   "execution_count": 18,
   "metadata": {},
   "outputs": [
    {
     "name": "stdout",
     "output_type": "stream",
     "text": [
      "[[ 0.00042 -0.00304  0.03029 -0.00514  0.00022  0.0001   0.00437 -0.001\n",
      "   0.00233 -0.00076 -0.00212  0.00446  0.06333 -0.01109]]\n",
      "RMSE: 8.83313116671628\n"
     ]
    },
    {
     "data": {
      "image/png": "[encoded data removed]",
      "text/plain": [
       "<Figure size 432x288 with 1 Axes>"
      ]
     },
     "metadata": {},
     "output_type": "display_data"
    }
   ],
   "source": [
    "# Your code here\n",
    "\n",
    "\n",
    "XX = np.matrix(np.concatenate([np.ones((X.shape[0],1)),np.array(X)], axis = 1))\n",
    "YY = np.matrix(Y).T\n",
    "\n",
    "\n",
    "max_iter  = 100\n",
    "alpha = 0.00000001\n",
    "\n",
    "w = np.zeros([XX.shape[1],1])\n",
    "for i in range(max_iter):\n",
    "    grad = -2*XX.T*(YY - XX*w)\n",
    "    w = w - alpha*grad\n",
    "\n",
    "print(w.T)\n",
    "\n",
    "XXt = np.matrix(np.concatenate([np.ones((X_test.shape[0],1)),np.array(X_test)], axis = 1))\n",
    "Yt_hat = XXt*w\n",
    "Yth = np.array(Yt_hat).flatten()\n",
    "\n",
    "plt.scatter(Y_test, Yth)\n",
    "plt.plot([0,50], [0,50])\n",
    "plt.show()\n",
    "\n",
    "\n",
    "from sklearn.metrics import mean_squared_error\n",
    "print('RMSE:', np.sqrt(mean_squared_error(Yth, np.array(Y_test))))"
   ]
  },
  {
   "cell_type": "markdown",
   "metadata": {},
   "source": [
    "## Task 4 - zopakujte Task 3 s tím, že nejprve standardizujete příznaky\n",
    "\n",
    "Výsledky porovnejte s předchozími."
   ]
  },
  {
   "cell_type": "code",
   "execution_count": 16,
   "metadata": {},
   "outputs": [
    {
     "name": "stderr",
     "output_type": "stream",
     "text": [
      "c:\\users\\dan\\appdata\\local\\programs\\python\\python36\\lib\\site-packages\\sklearn\\preprocessing\\data.py:617: DataConversionWarning: Data with input dtype int64, float64 were all converted to float64 by StandardScaler.\n",
      "  return self.partial_fit(X, y)\n",
      "c:\\users\\dan\\appdata\\local\\programs\\python\\python36\\lib\\site-packages\\ipykernel_launcher.py:4: DataConversionWarning: Data with input dtype int64, float64 were all converted to float64 by StandardScaler.\n",
      "  after removing the cwd from sys.path.\n",
      "c:\\users\\dan\\appdata\\local\\programs\\python\\python36\\lib\\site-packages\\ipykernel_launcher.py:5: DataConversionWarning: Data with input dtype int64, float64 were all converted to float64 by StandardScaler.\n",
      "  \"\"\"\n"
     ]
    },
    {
     "name": "stdout",
     "output_type": "stream",
     "text": [
      "[[22.73183 -0.32042  0.79773 -0.58979  1.12951 -1.14203  2.96537 -0.37148\n",
      "  -2.53729  1.38402 -0.5781  -1.42146  0.69445 -3.7728 ]]\n",
      "RMSE: 4.643776608463406\n"
     ]
    },
    {
     "data": {
      "image/png": "[encoded data removed]",
      "text/plain": [
       "<Figure size 432x288 with 1 Axes>"
      ]
     },
     "metadata": {},
     "output_type": "display_data"
    }
   ],
   "source": [
    "# Your code here\n",
    "\n",
    "\n",
    "from sklearn.preprocessing import StandardScaler\n",
    "scaler = StandardScaler()\n",
    "scaler.fit(X)\n",
    "X2 = scaler.transform(X)\n",
    "X2_test = scaler.transform(X_test)\n",
    "\n",
    "XX = np.matrix(np.concatenate([np.ones((X.shape[0],1)),np.array(X2)], axis = 1))\n",
    "YY = np.matrix(Y).T\n",
    "\n",
    "\n",
    "max_iter  = 100000\n",
    "alpha = 0.0000001\n",
    "\n",
    "w = np.zeros([XX.shape[1],1])\n",
    "for i in range(max_iter):\n",
    "    grad = -2*XX.T*(YY - XX*w)\n",
    "    w = w - alpha*grad\n",
    "\n",
    "print(w.T)\n",
    "\n",
    "XXt = np.matrix(np.concatenate([np.ones((X_test.shape[0],1)),np.array(X2_test)], axis = 1))\n",
    "Yt_hat = XXt*w\n",
    "Yth = np.array(Yt_hat).flatten()\n",
    "\n",
    "plt.scatter(Y_test, Yth)\n",
    "plt.plot([0,50], [0,50])\n",
    "plt.show()\n",
    "\n",
    "from sklearn.metrics import mean_squared_error\n",
    "print('RMSE:', np.sqrt(mean_squared_error(Yth, np.array(Y_test))))"
   ]
  },
  {
   "cell_type": "code",
   "execution_count": null,
   "metadata": {},
   "outputs": [],
   "source": []
  }
 ],
 "metadata": {
  "kernelspec": {
   "display_name": "Python 3",
   "language": "python",
   "name": "python3"
  },
  "language_info": {
   "codemirror_mode": {
    "name": "ipython",
    "version": 3
   },
   "file_extension": ".py",
   "mimetype": "text/x-python",
   "name": "python",
   "nbconvert_exporter": "python",
   "pygments_lexer": "ipython3",
   "version": "3.6.8"
  }
 },
 "nbformat": 4,
 "nbformat_minor": 2
}
