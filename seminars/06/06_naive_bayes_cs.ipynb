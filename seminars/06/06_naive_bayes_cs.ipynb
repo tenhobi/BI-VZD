{
 "cells": [
  {
   "cell_type": "markdown",
   "metadata": {},
   "source": [
    "# Naive Bayes"
   ]
  },
  {
   "cell_type": "markdown",
   "metadata": {},
   "source": [
    "V tomto notebooku se budeme zabývat využitím klasifikace pomocí Naivního Bayese. Speciálně se budeme soustředit na klasifikaci textů.\n",
    " \n",
    "Základem pro tento dokument je tutorial ze scikit-learn zaměřený na analýzu textů [zde](https://scikit-learn.org/stable/tutorial/text_analytics/working_with_text_data.html)."
   ]
  },
  {
   "cell_type": "code",
   "execution_count": 7,
   "metadata": {},
   "outputs": [
    {
     "ename": "ModuleNotFoundError",
     "evalue": "No module named 'pandas'",
     "output_type": "error",
     "traceback": [
      "\u001b[0;31m---------------------------------------------------------------------------\u001b[0m",
      "\u001b[0;31mModuleNotFoundError\u001b[0m                       Traceback (most recent call last)",
      "\u001b[0;32m<ipython-input-7-98bfe81f290c>\u001b[0m in \u001b[0;36m<module>\u001b[0;34m\u001b[0m\n\u001b[0;32m----> 1\u001b[0;31m \u001b[0;32mimport\u001b[0m \u001b[0mpandas\u001b[0m \u001b[0;32mas\u001b[0m \u001b[0mpd\u001b[0m\u001b[0;34m\u001b[0m\u001b[0;34m\u001b[0m\u001b[0m\n\u001b[0m\u001b[1;32m      2\u001b[0m \u001b[0;32mimport\u001b[0m \u001b[0mnumpy\u001b[0m \u001b[0;32mas\u001b[0m \u001b[0mnp\u001b[0m\u001b[0;34m\u001b[0m\u001b[0;34m\u001b[0m\u001b[0m\n\u001b[1;32m      3\u001b[0m \u001b[0;32mfrom\u001b[0m \u001b[0mscipy\u001b[0m\u001b[0;34m.\u001b[0m\u001b[0mspecial\u001b[0m \u001b[0;32mimport\u001b[0m \u001b[0mlogsumexp\u001b[0m\u001b[0;34m\u001b[0m\u001b[0;34m\u001b[0m\u001b[0m\n\u001b[1;32m      4\u001b[0m \u001b[0;32mfrom\u001b[0m \u001b[0msklearn\u001b[0m\u001b[0;34m.\u001b[0m\u001b[0mnaive_bayes\u001b[0m \u001b[0;32mimport\u001b[0m \u001b[0mBernoulliNB\u001b[0m\u001b[0;34m,\u001b[0m \u001b[0mMultinomialNB\u001b[0m\u001b[0;34m\u001b[0m\u001b[0;34m\u001b[0m\u001b[0m\n\u001b[1;32m      5\u001b[0m \u001b[0;32mfrom\u001b[0m \u001b[0msklearn\u001b[0m\u001b[0;34m.\u001b[0m\u001b[0mdatasets\u001b[0m \u001b[0;32mimport\u001b[0m \u001b[0mfetch_20newsgroups\u001b[0m\u001b[0;34m\u001b[0m\u001b[0;34m\u001b[0m\u001b[0m\n",
      "\u001b[0;31mModuleNotFoundError\u001b[0m: No module named 'pandas'"
     ]
    }
   ],
   "source": [
    "import pandas as pd\n",
    "import numpy as np\n",
    "from scipy.special import logsumexp\n",
    "from sklearn.naive_bayes import BernoulliNB, MultinomialNB\n",
    "from sklearn.datasets import fetch_20newsgroups\n",
    "from sklearn.feature_extraction.text import CountVectorizer\n",
    "from sklearn.pipeline import Pipeline\n",
    "\n",
    "import matplotlib.pyplot as plt\n",
    "import matplotlib\n",
    "%matplotlib inline\n",
    "\n",
    "np.set_printoptions(precision=5, suppress=True)  # suppress scientific float notation (so 0.000 is printed as 0.)"
   ]
  },
  {
   "cell_type": "markdown",
   "metadata": {},
   "source": [
    "## Načtení dat\n",
    "\n",
    "Využijeme data ze zdroje [20 Newsgroups](http://qwone.com/~jason/20Newsgroups/), který obsahuje různě kategorizované texty z internetových diskusí.\n",
    "\n",
    "Pro jednoduchost se zaměříme pouze na dvě kategorie - hokej a auta."
   ]
  },
  {
   "cell_type": "code",
   "execution_count": 3,
   "metadata": {},
   "outputs": [
    {
     "name": "stderr",
     "output_type": "stream",
     "text": [
      "Downloading 20news dataset. This may take a few minutes.\n",
      "Downloading dataset from https://ndownloader.figshare.com/files/5975967 (14 MB)\n"
     ]
    }
   ],
   "source": [
    "categories = ['rec.sport.hockey', 'rec.autos']\n",
    "train_data = fetch_20newsgroups(subset='train', categories=categories, shuffle=True, random_state=1)\n",
    "test_data = fetch_20newsgroups(subset='test', categories=categories, shuffle=True, random_state=1)"
   ]
  },
  {
   "cell_type": "code",
   "execution_count": 4,
   "metadata": {},
   "outputs": [
    {
     "name": "stdout",
     "output_type": "stream",
     "text": [
      "Kategorie: ['rec.autos', 'rec.sport.hockey']\n",
      "Train data length: 1194\n",
      "Kategorie prvního dokumentu: rec.autos\n"
     ]
    }
   ],
   "source": [
    "# Prozkoumání trénovacích dat\n",
    "print('Kategorie:', train_data.target_names)\n",
    "print('Train data length:', len(train_data.data))\n",
    "\n",
    "# print(train_data.data[0])\n",
    "print('Kategorie prvního dokumentu:',train_data.target_names[train_data.target[0]])"
   ]
  },
  {
   "cell_type": "markdown",
   "metadata": {},
   "source": [
    "## Transformace do bag-of-words reprezentace\n",
    "\n",
    "Použijeme k tomu CountVectorizer ze scikit-learn."
   ]
  },
  {
   "cell_type": "code",
   "execution_count": 5,
   "metadata": {},
   "outputs": [
    {
     "name": "stdout",
     "output_type": "stream",
     "text": [
      "61188\n"
     ]
    }
   ],
   "source": [
    "# Nejprve načteme slovník\n",
    "with open('vocabulary.txt','r') as f:\n",
    "    vocab=f.read().splitlines()\n",
    "print(len(vocab))"
   ]
  },
  {
   "cell_type": "code",
   "execution_count": 6,
   "metadata": {},
   "outputs": [
    {
     "name": "stdout",
     "output_type": "stream",
     "text": [
      "Bag of words shape (1194, 61188)\n",
      "Bag of words type <class 'scipy.sparse.csr.csr_matrix'>\n"
     ]
    }
   ],
   "source": [
    "count_vect = CountVectorizer(vocabulary = vocab)\n",
    "X_train_counts = count_vect.fit_transform(train_data.data)\n",
    "print('Bag of words shape', X_train_counts.shape)\n",
    "print('Bag of words type', type(X_train_counts))"
   ]
  },
  {
   "cell_type": "markdown",
   "metadata": {},
   "source": [
    "Výstupem je scipy.sparse matrix."
   ]
  },
  {
   "cell_type": "code",
   "execution_count": 7,
   "metadata": {},
   "outputs": [
    {
     "data": {
      "text/plain": [
       "array([[0, 0, 0, 0, 0, 0, 0, 0, 0, 0, 0, 6, 0, 0, 0, 2, 0, 0, 0, 0]],\n",
       "      dtype=int64)"
      ]
     },
     "execution_count": 7,
     "metadata": {},
     "output_type": "execute_result"
    }
   ],
   "source": [
    "# zobrazení prvního řádku - tj.příznaků prvního dokumentu\n",
    "X_train_counts[0,:20].toarray()"
   ]
  },
  {
   "cell_type": "markdown",
   "metadata": {},
   "source": [
    "We can also extract the vocabulary..."
   ]
  },
  {
   "cell_type": "code",
   "execution_count": 8,
   "metadata": {},
   "outputs": [
    {
     "name": "stdout",
     "output_type": "stream",
     "text": [
      "<class 'dict'>\n",
      "61188\n",
      "61188\n",
      "{'archive': 0, 'name': 0, 'atheism': 0, 'resources': 0, 'alt': 0, 'last': 0, 'modified': 0, 'december': 0, 'version': 0, 'atheist': 0, 'addresses': 0, 'of': 6, 'organizations': 0, 'usa': 0, 'freedom': 0, 'from': 2, 'religion': 0, 'foundation': 0, 'darwin': 0, 'fish': 0}\n"
     ]
    }
   ],
   "source": [
    "# several words from the dictionary together with their indices in the dictionary\n",
    "print(type(count_vect.vocabulary_))\n",
    "print(len(count_vect.vocabulary_))\n",
    "print(len(vocab))\n",
    "\n",
    "print({vocab[i]:X_train_counts[0,i] for i in range(20)})"
   ]
  },
  {
   "cell_type": "markdown",
   "metadata": {},
   "source": [
    "### TASK 1 - aplikujte nejprve jednoduchý model - Bernoulli Naive Bayes\n",
    "\n",
    "* Reprezentujte dokument pomocí indikátorů výskytů slov ze slovníku vocab\n",
    "* Natrénujte Naivního Bayese s Bernoulliho rozdělením příznaků\n",
    "* Otestujte kvalitu predikce na ručně určených dokumentech\n",
    "* Odhadněte přesnost (acccuracy) predikce s využitím testovací množiny test_data"
   ]
  },
  {
   "cell_type": "code",
   "execution_count": 9,
   "metadata": {},
   "outputs": [],
   "source": [
    "# Vlastní dokumenty pro testování\n",
    "docs_new = [\"Lets play hockey.\", \"I don't like their seats\"]\n",
    "\n",
    "# alternatives to play with\n",
    "# docs_new = [\"Lets play hockey.\", \"I don't like their game\"]"
   ]
  },
  {
   "cell_type": "code",
   "execution_count": 10,
   "metadata": {},
   "outputs": [
    {
     "name": "stdout",
     "output_type": "stream",
     "text": [
      "'Lets play hockey.' => rec.sport.hockey\n",
      "[0.13849 0.86151]\n",
      "\"I don't like their seats\" => rec.autos\n",
      "[0.99945 0.00055]\n",
      "0.9911949685534591\n",
      "0.9911949685534591\n"
     ]
    }
   ],
   "source": [
    "# Your code here\n",
    "\n",
    "# get indicators\n",
    "ind_vect = CountVectorizer(binary = True, vocabulary = vocab)\n",
    "X_train_indicators = ind_vect.fit_transform(train_data.data)\n",
    "\n",
    "# Train the classifier\n",
    "clfi = BernoulliNB().fit(X_train_indicators, train_data.target)\n",
    "\n",
    "# výpočet indikátorů pomocí natrénovaného CountVectorizer v objektu ind_vect\n",
    "X_new_indicators = ind_vect.transform(docs_new)\n",
    "\n",
    "# predikce\n",
    "predicted = clfi.predict(X_new_indicators)\n",
    "probabs = clfi.predict_proba(X_new_indicators)\n",
    "\n",
    "# print results\n",
    "for doc, category, probab in zip(docs_new, predicted, probabs):\n",
    "    print('%r => %s' % (doc, train_data.target_names[category]))\n",
    "    print(probab)\n",
    "\n",
    "# Odhad accuracy pomocí trénovací množiny\n",
    "\n",
    "# výpočet indikátorů pomocí natrénovaného CountVectorizer v objektu ind_vect\n",
    "X_new_indicators = ind_vect.transform(test_data.data)\n",
    "\n",
    "# predikce\n",
    "predicted = clfi.predict(X_new_indicators)\n",
    "\n",
    "print(np.mean(predicted == test_data.target))\n",
    "print(clfi.score(X_new_indicators, test_data.target))"
   ]
  },
  {
   "cell_type": "markdown",
   "metadata": {},
   "source": [
    "### TASK 2 - aplikujme složitější model - Multinomial Naive Bayes\n",
    "\n",
    "* Reprezentujte dokument pomocí počtů výskytů slov ze slovníku vocab - tj. bag-of-words reprezentace\n",
    "* Natrénujte multinomického naivního Bayese\n",
    "* Otestujte kvalitu predikce na ručně určených dokumentech\n",
    "* Odhadněte přesnost (acccuracy) predikce s využitím testovací množiny test_data"
   ]
  },
  {
   "cell_type": "code",
   "execution_count": 11,
   "metadata": {},
   "outputs": [
    {
     "name": "stdout",
     "output_type": "stream",
     "text": [
      "'Lets play hockey.' => rec.sport.hockey\n",
      "[0.00006 0.99994]\n",
      "\"I don't like their seats\" => rec.autos\n",
      "[0.63915 0.36085]\n",
      "0.9962264150943396\n",
      "0.9962264150943396\n"
     ]
    }
   ],
   "source": [
    "# Your code here\n",
    "\n",
    "# get counts\n",
    "count_vect = CountVectorizer(vocabulary = vocab)\n",
    "X_train_counts = count_vect.fit_transform(train_data.data)\n",
    "\n",
    "# Train the classifier\n",
    "clf = MultinomialNB().fit(X_train_counts, train_data.target)\n",
    "\n",
    "# výpočet četností pomocí natrénovaného CountVectorizer v objektu count_vect\n",
    "X_new_counts = count_vect.transform(docs_new)\n",
    "\n",
    "# predikce\n",
    "predicted = clf.predict(X_new_counts)\n",
    "probabs = clf.predict_proba(X_new_counts)\n",
    "\n",
    "# print results\n",
    "for doc, category, probab in zip(docs_new, predicted, probabs):\n",
    "    print('%r => %s' % (doc, train_data.target_names[category]))\n",
    "    print(probab)\n",
    "    \n",
    "# Odhad accuracy pomocí trénovací množiny\n",
    "\n",
    "# výpočet četností pomocí natrénovaného CountVectorizer v objektu ind_vect\n",
    "X_new_counts = count_vect.transform(test_data.data)\n",
    "\n",
    "# predikce\n",
    "predicted = clf.predict(X_new_counts)\n",
    "\n",
    "print(np.mean(predicted == test_data.target))\n",
    "print(clf.score(X_new_counts, test_data.target))"
   ]
  },
  {
   "cell_type": "markdown",
   "metadata": {},
   "source": [
    "### Task 3 - Implementujte Naivní Bayesův klasifikátor v situaci, kdy má část příznaků kategorické a část Bernoulliho rozdělení\n",
    "\n",
    "* První příznak je kategorický (se třemi kategoriemi)\n",
    "* Zbývajících 10 příznaků má Bernoulliho rozdělení\n",
    "\n",
    "**Hint** - kategorický příznak převeďte na 3 indikátorové příznaky a odděleně použijte MultinomialNB.\n",
    "Potom zvlášt odhadněte zbylé Bernoulliho příznaky a na závěr získané pravděpodobnosti pronásobte. \n",
    "Pozor - je třeba v jednom z modelů zafixovat rozdělení $Y$ na rovnoměrné - aby se pravděpodobnosti $P(Y = y)$ nenásobili dvakrát."
   ]
  },
  {
   "cell_type": "code",
   "execution_count": 12,
   "metadata": {},
   "outputs": [
    {
     "name": "stdout",
     "output_type": "stream",
     "text": [
      "(20, 1)\n",
      "(20, 5)\n",
      "(20, 5)\n",
      "(20, 11)\n",
      "[1. 1. 1. 1. 1. 1. 1. 0. 0. 0. 0. 0. 0. 0. 0. 0. 0. 0. 0. 0.]\n"
     ]
    }
   ],
   "source": [
    "# Vytvoření datasetu\n",
    "class_count = 10\n",
    "X00 = np.random.choice(3, size = (class_count,1), p = [0.4,0.4,0.2])\n",
    "X01 = np.random.choice(3, size = (class_count,1), p = [0.2,0.5,0.3])\n",
    "X0 = np.concatenate([X00,X01])\n",
    "print(X0.shape)\n",
    "\n",
    "X10 = np.random.choice(2, size = (class_count,5), p = [0.4,0.6])\n",
    "X11 = np.random.choice(2, size = (class_count,5), p = [0.6,0.4])\n",
    "X1 = np.concatenate([X10,X11])\n",
    "print(X1.shape)\n",
    "\n",
    "X20 = np.random.choice(2, size = (class_count,5), p = [0.4,0.6])\n",
    "X21 = np.random.choice(2, size = (class_count,5), p = [0.2,0.8])\n",
    "X2 = np.concatenate([X20,X21])\n",
    "print(X2.shape)\n",
    "\n",
    "X = np.concatenate([X0,X1,X2],axis = 1)\n",
    "print(X.shape)\n",
    "\n",
    "Y = np.concatenate([np.ones(class_count-3), np.zeros(class_count+3)])\n",
    "print(Y)"
   ]
  },
  {
   "cell_type": "code",
   "execution_count": 33,
   "metadata": {},
   "outputs": [
    {
     "name": "stdout",
     "output_type": "stream",
     "text": [
      "[0 1 1 0 1 1 1 1 0 1 0 0 0 0 0 0 0 0 0 0]\n"
     ]
    }
   ],
   "source": [
    "# Your code here\n",
    "\n",
    "from sklearn.preprocessing import OneHotEncoder\n",
    "# train multinomial\n",
    "Xo = OneHotEncoder(sparse=False, categories='auto').fit_transform(X0)\n",
    "# Thanks to this we dont have the different priors for Y so we don't need to subtract them\n",
    "clfo = MultinomialNB(fit_prior=False).fit(Xo, Y)\n",
    "# train Bernoulli\n",
    "Xr =  np.concatenate([X1,X2],axis = 1)\n",
    "clfr = BernoulliNB(fit_prior=True).fit(Xr,Y)\n",
    "\n",
    "# take it together\n",
    "probabs = np.exp(clfo.predict_log_proba(Xo) + clfr.predict_log_proba(Xr))\n",
    "print(np.argmax(probabs, axis = 1))\n",
    "\n",
    "\n",
    "\n",
    "\n",
    "# Second possibility - with both priors - gives the same result\n",
    "clfo = MultinomialNB(fit_prior=True).fit(Xo, Y)\n",
    "# train Bernoulli\n",
    "clfr = BernoulliNB(fit_prior=True).fit(Xr,Y)\n",
    "# take it together\n",
    "probabs = np.exp(clfo.predict_log_proba(Xo) + clfr.predict_log_proba(Xr) - clfo.class_log_prior_)"
   ]
  }
 ],
 "metadata": {
  "kernelspec": {
   "display_name": "Python 3",
   "language": "python",
   "name": "python3"
  },
  "language_info": {
   "codemirror_mode": {
    "name": "ipython",
    "version": 3
   },
   "file_extension": ".py",
   "mimetype": "text/x-python",
   "name": "python",
   "nbconvert_exporter": "python",
   "pygments_lexer": "ipython3",
   "version": "3.6.8"
  }
 },
 "nbformat": 4,
 "nbformat_minor": 4
}
