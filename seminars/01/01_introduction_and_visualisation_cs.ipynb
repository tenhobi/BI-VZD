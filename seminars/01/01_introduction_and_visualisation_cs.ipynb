{
 "cells": [
  {
   "cell_type": "markdown",
   "metadata": {},
   "source": [
    "# 01: Úvod a vizualizace"
   ]
  },
  {
   "cell_type": "markdown",
   "metadata": {},
   "source": [
    "## Import základních balíčků"
   ]
  },
  {
   "cell_type": "markdown",
   "metadata": {},
   "source": [
    "### NumPy \n",
    "  * Balíček pro rychlé „vědecké“ výpočty (zejména lineární algebra a náhodná čísla).\n",
    "  * Většinou se jedná jen o interface k vysoce optimalizovaným C/C++/Fortran knihovnám.\n",
    "  * http://www.numpy.org/\n",
    "\n",
    "### pandas\n",
    "  * Oblíbený nástroj pro datovou analýzu.\n",
    "  * Pomáhá usnadnit práci s tabulkovými daty.\n",
    "  * http://pandas.pydata.org/\n",
    "\n",
    "### scikit-learn (sklearn)\n",
    "  * Soubor nástrojů datové vědy psaný v Pythonu.\n",
    "  * Staví na NumPy, [SciPy](https://www.scipy.org/) a matplotlib\n",
    "  * http://scikit-learn.org/stable/\n",
    "  \n",
    "### matplotlib\n",
    "  * Základní knihovna pro vykreslování grafů.\n",
    "  * https://matplotlib.org/\n",
    "\n",
    "### seaborn\n",
    "  * Nástroj pro vizualizaci dat, založený na matplotlib.\n",
    "  * https://seaborn.pydata.org/"
   ]
  },
  {
   "cell_type": "code",
   "execution_count": 1,
   "metadata": {},
   "outputs": [],
   "source": [
    "import numpy as np\n",
    "import pandas as pd\n",
    "import sklearn as skit\n",
    "import matplotlib.pyplot as plt\n",
    "import seaborn as sns"
   ]
  },
  {
   "cell_type": "markdown",
   "metadata": {},
   "source": [
    "## Základní práce s daty pomocí knihovny pandas\n",
    "\n",
    "  - Načtěte datasety data1.csv a data2.csv pomocí pandas.\n",
    "  - Zjistěte, jakých typů jsou data ve sloupcích (obsahují stringy, čísla, ...? Jaký mají rozsah?)"
   ]
  },
  {
   "cell_type": "markdown",
   "metadata": {},
   "source": [
    "### Načítání dat\n",
    "\n",
    "  - Načítání dat z csv souborů do pandas typu DataFrame."
   ]
  },
  {
   "cell_type": "code",
   "execution_count": null,
   "metadata": {},
   "outputs": [],
   "source": [
    "data1 = pd.read_csv('data1.csv')\n",
    "data2 = pd.read_csv('data2.csv',sep=';')"
   ]
  },
  {
   "cell_type": "markdown",
   "metadata": {},
   "source": [
    "### Pomocí pandas funkcí si můžeme zobrazit základní informace o datasetu"
   ]
  },
  {
   "cell_type": "code",
   "execution_count": null,
   "metadata": {},
   "outputs": [],
   "source": [
    "df = data2\n",
    "#df.head()\n",
    "#df.info()\n",
    "#df.describe()\n",
    "#df.isnull().sum()\n",
    "#df.notnull().sum()\n",
    "#display(df.head())\n",
    "#df.head()"
   ]
  },
  {
   "cell_type": "markdown",
   "metadata": {},
   "source": [
    "### Základy přístupu k datům "
   ]
  },
  {
   "cell_type": "code",
   "execution_count": null,
   "metadata": {},
   "outputs": [],
   "source": [
    "#data1['Age'] # vrátí sloupec se jménem (pandas.Series.name) Age\n",
    "#data1.Age # totéž co výše\n",
    "#data1['Age'][:10] # vrátí prvních 10 záznamů ze sloupce Age \n",
    "#data1['Age'][:3][[True, False, True]]\n",
    "#data1['Age'] > 30 # podmínka se použije na všechny záznamy -> vrací pandas.Series s výsledky (hodnoty True nebo False)\n",
    "#data1[data1['Age'] > 30] # vrátí jen osoby starší než 30 let\n",
    "#data1[['Age', 'Survived']].head() # vrátí jen zadané sloupce\n",
    "#data1_tmp = data1.copy() # vytvoří hlubokou kopii dataframe\n",
    "#data1_tmp.columns = range(12) # přejmenování sloupců\n",
    "#display(data1.head())\n",
    "#data1_tmp.head()\n",
    "#data1[1:2] # vrací první řádek\n",
    "#data1.loc[1,['Age', 'Sex']] # indexy (viz .loc? a .iloc?)"
   ]
  },
  {
   "cell_type": "markdown",
   "metadata": {},
   "source": [
    "## Úloha 01: Zřetězení dat\n",
    "\n",
    "  - Připojte data2.csv za data1.csv následujícím způsobem:\n",
    "      - Data (sloupce), která nejsou v data1.csv jsou v data2.csv vynechána.\n",
    "      - Spočítejte věk pomocí sloupce BirthYear (rok narození) v data2.csv a uložte jej do sloupce Age.\n",
    "      - PasangerId musí být unikátní.\n",
    "      - Použijte metodu pandas.concat."
   ]
  },
  {
   "cell_type": "code",
   "execution_count": null,
   "metadata": {},
   "outputs": [],
   "source": [
    "### sem napište svůj kód"
   ]
  },
  {
   "cell_type": "markdown",
   "metadata": {},
   "source": [
    "## Vizualizace pomocí pandas a seaborn"
   ]
  },
  {
   "cell_type": "code",
   "execution_count": null,
   "metadata": {},
   "outputs": [],
   "source": [
    "import matplotlib.pyplot as plt # takto se matplotlib standardně importuje\n",
    "import matplotlib\n",
    "# bez násl. řádku někdy nefunguje vykreslování grafů v Jupyter noteboocích\n",
    "%matplotlib inline \n",
    "matplotlib.style.use('ggplot')"
   ]
  },
  {
   "cell_type": "markdown",
   "metadata": {},
   "source": [
    "### Vliv sloupců Pclass, Age a Sex na přežití cestujících"
   ]
  },
  {
   "cell_type": "code",
   "execution_count": null,
   "metadata": {},
   "outputs": [],
   "source": [
    "#data.plot() # výchozí chování metody plot()\n",
    "#podívejte se, jaké druhy grafů jsou k dispozici\n",
    "#data.plot?\n",
    "\n",
    "# získání přeživších a nepřeživších osob\n",
    "survived = data[data['Survived'] == 1]\n",
    "not_survived = data[data['Survived'] == 0]\n",
    "\n",
    "ax = survived.plot.scatter(x='Age', y='Pclass', color='Green', label='Survived')\n",
    "not_survived.plot(x='Age', y='Pclass', kind='scatter', color='Black', label='Not Survived')\n",
    "# vykreslení grafů do jednoho obrázku:\n",
    "# not_survived.plot.scatter(x='Age', y='Pclass', color='Black', label='Not Survived', ax = ax)"
   ]
  },
  {
   "cell_type": "code",
   "execution_count": null,
   "metadata": {},
   "outputs": [],
   "source": [
    "plt.figure(figsize=(9,12)) # velikost figsize se určuje v palcích (angl. inches)\n",
    "plt.subplot(321) # tři řádky a dva sloupce, přiřaď následující graf do prvního slotu\n",
    "survived['Age'].plot.hist(color='Green')\n",
    "plt.subplot(322)\n",
    "not_survived['Age'].plot.hist(color='Black')\n",
    "plt.subplot(323)\n",
    "survived['Pclass'].plot.hist(color='Green')\n",
    "plt.subplot(324)\n",
    "not_survived['Pclass'].plot.hist(color='Black')\n",
    "plt.subplot(325)\n",
    "survived['Sex'].apply(lambda x: 1 if x == 'female' else 0).plot.hist(color='Green')\n",
    "plt.subplot(326)\n",
    "not_survived['Sex'].apply(lambda x: 1 if x == 'female' else 0).plot.hist(color='Black')"
   ]
  },
  {
   "cell_type": "markdown",
   "metadata": {},
   "source": [
    "## Seaborne: jak zjistit vztahy mezi příznaky"
   ]
  },
  {
   "cell_type": "code",
   "execution_count": null,
   "metadata": {},
   "outputs": [],
   "source": [
    "plt.figure(figsize=(14,12))\n",
    "data['Sex'] = data['Sex'].apply(lambda x: 1 if x == 'female' else 0)\n",
    "cor_matrix = data.drop('PassengerId', axis=1).corr()\n",
    "print(cor_matrix)\n",
    "sns.heatmap(cor_matrix, annot=True)"
   ]
  },
  {
   "cell_type": "markdown",
   "metadata": {},
   "source": [
    "## Úloha 02: vytvořte bodový graf (scatter plot) pro všechny dvojice příznaků\n",
    "\n",
    "  - K vykreslení všech (smysluplných) dvojic příznaků použijte metodu sns.pairplot, podobným způsobem jako metodu níže."
   ]
  },
  {
   "cell_type": "code",
   "execution_count": null,
   "metadata": {},
   "outputs": [],
   "source": [
    "plt.figure(figsize=(12,4))\n",
    "sns.stripplot(x=\"Pclass\", y=\"Age\", hue=\"Survived\", data=data, palette= ['black','green']) # add jitter=True"
   ]
  },
  {
   "cell_type": "code",
   "execution_count": null,
   "metadata": {},
   "outputs": [],
   "source": [
    "### sem napište svůj kód"
   ]
  },
  {
   "cell_type": "markdown",
   "metadata": {},
   "source": [
    "## Stahování dat z webu pomocí Pythonu a pandas (1. úkol)\n",
    "          \n",
    "### Tipy pro scrapping s Pythonem:\n",
    "   - K získání HTML zdrojáku stránky s `url` použijte `import requests`: \n",
    "      - `r = requests.get(url)`\n",
    "      - `html = r.text`\n",
    "   - Metoda `pandas.read_html(r.text)` uloží všechny tabulky `<table>` jako seznam pandas DataFrames:\n",
    "      - `list_of_data_frames = pd.read_html(html,flavor='html5lib')`\n",
    "   - Pro HTML parsování lze použít `from bs4 import BeautifulSoup`."
   ]
  },
  {
   "cell_type": "code",
   "execution_count": 11,
   "metadata": {},
   "outputs": [
    {
     "data": {
      "text/plain": [
       "[  Početvolenýchčlenůzastupitelstva Početvolebníchobvodů Okrsky              \\\n",
       "   Početvolenýchčlenůzastupitelstva Početvolebníchobvodů celkem zpr.    v %   \n",
       " 0                               39                    1     87   87  10000   \n",
       " \n",
       "   Voličiv seznamu Vydanéobálky Volebníúčast v % Odevzdanéobálky Platnéhlasy  \n",
       "   Voličiv seznamu Vydanéobálky Volebníúčast v % Odevzdanéobálky Platnéhlasy  \n",
       " 0          80 012       32 726             4090          32 713   1 188 679  ,\n",
       "    Kandidátní listina                                    Hlasy        \\\n",
       "                 číslo                           název     abs.   v %   \n",
       " 0                   1         Unie pro sport a zdraví   50 604   426   \n",
       " 1                   2  Svob.a př.dem.-T.Okamura (SPD)   54 539   459   \n",
       " 2                   3   Starostové pro Liberecký kraj  381 613  3210   \n",
       " 3                   4    Občanská demokratická strana   99 621   838   \n",
       " 4                   5                        ANO 2011  253 959  2136   \n",
       " 5                   6   Liberec otevřený lidem - LOL!   62 686   527   \n",
       " 6                   7  PRO 2016 s podporou Svobodných   42 636   359   \n",
       " 7                   8                   Liberec Plus+   18 622   157   \n",
       " 8                   9  Komunistická str.Čech a Moravy   35 979   303   \n",
       " 9                  10               Změna pro Liberec  157 737  1327   \n",
       " 10                 11           Strana soukromníků ČR    5 491    46   \n",
       " 11                 12    Česká str.sociálně demokrat.   25 192   212   \n",
       " \n",
       "    Početkandidátů Přepočtenýzákladdle počtukandidátů  \\\n",
       "    Početkandidátů Přepočtenýzákladdle počtukandidátů   \n",
       " 0              39                       1 188 679,00   \n",
       " 1              39                       1 188 679,00   \n",
       " 2              39                       1 188 679,00   \n",
       " 3              39                       1 188 679,00   \n",
       " 4              39                       1 188 679,00   \n",
       " 5              39                       1 188 679,00   \n",
       " 6              38                       1 158 200,05   \n",
       " 7              39                       1 188 679,00   \n",
       " 8              39                       1 188 679,00   \n",
       " 9              39                       1 188 679,00   \n",
       " 10             35                       1 066 763,20   \n",
       " 11             39                       1 188 679,00   \n",
       " \n",
       "    Přepočtené %platných hlasů Početmandátů Podílyhlasů  \n",
       "    Přepočtené %platných hlasů Početmandátů Podílyhlasů  \n",
       " 0                         425            0           -  \n",
       " 1                         458            0           -  \n",
       " 2                        3210           16           X  \n",
       " 3                         838            4           X  \n",
       " 4                        2136           11           X  \n",
       " 5                         527            2           X  \n",
       " 6                         368            0           -  \n",
       " 7                         156            0           -  \n",
       " 8                         302            0           -  \n",
       " 9                        1326            6           X  \n",
       " 10                         51            0           -  \n",
       " 11                        211            0           -  ]"
      ]
     },
     "metadata": {},
     "output_type": "display_data"
    }
   ],
   "source": [
    "# příklad pro statutární město Kladno, výsledky voleb pro rok 2010\n",
    "url = 'https://www.volby.cz/pls/kv2018/kv1111?xjazyk=CZ&xid=0&xdz=3&xnumnuts=5103&xobec=563889&xstat=0&xvyber=0' # výsledky voleb\n",
    "dfs = pd.read_html(url,flavor='html5lib')\n",
    "pd.options.display.max_columns = None\n",
    "pd.options.display.max_rows = None\n",
    "display(dfs[0:])"
   ]
  },
  {
   "cell_type": "markdown",
   "metadata": {},
   "source": [
    "### Pro zajímavost (z loňského roku): Příklad jednoduchého stažení dat z webu pomocí POST formuláře.\n",
    "\n",
    "Úkolem je stáhnout všechna data z http://kap.ujak.cz/index.php a uložit je ve formátu pandas DataFrame."
   ]
  },
  {
   "cell_type": "code",
   "execution_count": 6,
   "metadata": {},
   "outputs": [
    {
     "ename": "NameError",
     "evalue": "name 'requests' is not defined",
     "output_type": "error",
     "traceback": [
      "\u001b[0;31m---------------------------------------------------------------------------\u001b[0m",
      "\u001b[0;31mNameError\u001b[0m                                 Traceback (most recent call last)",
      "\u001b[0;32m<ipython-input-6-c8b298834ef9>\u001b[0m in \u001b[0;36m<module>\u001b[0;34m\u001b[0m\n\u001b[1;32m     15\u001b[0m \u001b[0;32mfor\u001b[0m \u001b[0mprace\u001b[0m \u001b[0;32min\u001b[0m \u001b[0;34m[\u001b[0m\u001b[0;34m'BP'\u001b[0m\u001b[0;34m,\u001b[0m \u001b[0;34m'DP'\u001b[0m\u001b[0;34m]\u001b[0m\u001b[0;34m:\u001b[0m\u001b[0;34m\u001b[0m\u001b[0;34m\u001b[0m\u001b[0m\n\u001b[1;32m     16\u001b[0m     \u001b[0mdata\u001b[0m\u001b[0;34m[\u001b[0m\u001b[0;34m'prace'\u001b[0m\u001b[0;34m]\u001b[0m \u001b[0;34m=\u001b[0m \u001b[0mprace\u001b[0m\u001b[0;34m\u001b[0m\u001b[0;34m\u001b[0m\u001b[0m\n\u001b[0;32m---> 17\u001b[0;31m     \u001b[0mr\u001b[0m \u001b[0;34m=\u001b[0m \u001b[0mrequests\u001b[0m\u001b[0;34m.\u001b[0m\u001b[0mpost\u001b[0m\u001b[0;34m(\u001b[0m\u001b[0murl\u001b[0m\u001b[0;34m,\u001b[0m \u001b[0mdata\u001b[0m\u001b[0;34m)\u001b[0m\u001b[0;34m\u001b[0m\u001b[0;34m\u001b[0m\u001b[0m\n\u001b[0m\u001b[1;32m     18\u001b[0m     \u001b[0mr\u001b[0m\u001b[0;34m.\u001b[0m\u001b[0mencoding\u001b[0m\u001b[0;34m=\u001b[0m\u001b[0;34m'cp1250'\u001b[0m\u001b[0;34m\u001b[0m\u001b[0;34m\u001b[0m\u001b[0m\n\u001b[1;32m     19\u001b[0m     \u001b[0mldf\u001b[0m \u001b[0;34m=\u001b[0m \u001b[0mpd\u001b[0m\u001b[0;34m.\u001b[0m\u001b[0mread_html\u001b[0m\u001b[0;34m(\u001b[0m\u001b[0mr\u001b[0m\u001b[0;34m.\u001b[0m\u001b[0mtext\u001b[0m\u001b[0;34m,\u001b[0m\u001b[0mflavor\u001b[0m\u001b[0;34m=\u001b[0m\u001b[0;34m'html5lib'\u001b[0m\u001b[0;34m,\u001b[0m \u001b[0mheader\u001b[0m\u001b[0;34m=\u001b[0m\u001b[0;36m0\u001b[0m\u001b[0;34m)\u001b[0m\u001b[0;34m\u001b[0m\u001b[0;34m\u001b[0m\u001b[0m\n",
      "\u001b[0;31mNameError\u001b[0m: name 'requests' is not defined"
     ]
    }
   ],
   "source": [
    "# url s formulářem\n",
    "url = 'http://kap.ujak.cz/index.php?strana={}'\n",
    "# nastavení POST proměnných simulující odeslání formuláře\n",
    "data = {\n",
    "    'typ' : 'kap',\n",
    "    'prace' : 'BP', # DP = diplomka, DR = disertace, RI = rigorozní\n",
    "    'nazev' : '%%%', # alespoň tři písmena z názvu hledané práce\n",
    "    'pocet' : '0',\n",
    "    'klic' : '', # alespoň tři písmena z klíčových slov\n",
    "    'kl' : 'c', # c = částečně odpovídá, n = plně odpovídá\n",
    "    'hledat' : 'Vyhledat'\n",
    "}\n",
    "\n",
    "data_all = pd.DataFrame()\n",
    "for prace in ['BP', 'DP']:\n",
    "    data['prace'] = prace\n",
    "    r = requests.post(url, data)\n",
    "    r.encoding='cp1250'\n",
    "    ldf = pd.read_html(r.text,flavor='html5lib', header=0)\n",
    "    df = ldf[0]\n",
    "    strana = 30\n",
    "    if data_all.shape[0] == 0:\n",
    "        data_all = df.copy()\n",
    "    else:\n",
    "        data_all = pd.concat([data_all,df], ignore_index=True)\n",
    "    while df.shape[0] > 0:\n",
    "        if data_all.shape[0] > 200: # just to prevent from downloading all data\n",
    "            break\n",
    "        print(url.format(strana))\n",
    "        r = requests.post(url.format(strana), data)\n",
    "        r.encoding='cp1250'\n",
    "        ldf = pd.read_html(r.text,flavor='html5lib', header=0)\n",
    "        df = ldf[0]\n",
    "        strana = strana + 30\n",
    "        data_all = pd.concat([data_all,df], ignore_index=True)"
   ]
  },
  {
   "cell_type": "code",
   "execution_count": null,
   "metadata": {},
   "outputs": [],
   "source": [
    "dataUJAK = pd.read_csv('ujak.csv', index_col=0)\n",
    "display(dataUJAK.head())\n",
    "dataUJAK[dataUJAK['Rok'] > 2000].groupby(['Název práce']).size().sort_values(ascending=False)"
   ]
  },
  {
   "cell_type": "code",
   "execution_count": null,
   "metadata": {},
   "outputs": [],
   "source": []
  }
 ],
 "metadata": {
  "kernelspec": {
   "display_name": "Python 3",
   "language": "python",
   "name": "python3"
  },
  "language_info": {
   "codemirror_mode": {
    "name": "ipython",
    "version": 3
   },
   "file_extension": ".py",
   "mimetype": "text/x-python",
   "name": "python",
   "nbconvert_exporter": "python",
   "pygments_lexer": "ipython3",
   "version": "3.6.7"
  }
 },
 "nbformat": 4,
 "nbformat_minor": 4
}
